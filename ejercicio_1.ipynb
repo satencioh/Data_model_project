{
 "cells": [
  {
   "cell_type": "markdown",
   "metadata": {},
   "source": [
    "### Ejercicio 1: Creando una tabla con PostgreSQL"
   ]
  },
  {
   "cell_type": "markdown",
   "metadata": {},
   "source": [
    "⚠️**Importante⚠️: instalar las librerias que no tengas disponible**"
   ]
  },
  {
   "cell_type": "code",
   "execution_count": 1,
   "metadata": {},
   "outputs": [
    {
     "name": "stdout",
     "output_type": "stream",
     "text": [
      "Requirement already satisfied: psycopg2 in c:\\users\\user\\anaconda3\\lib\\site-packages (2.9.5)\n"
     ]
    }
   ],
   "source": [
    "#!pip install psycopg2"
   ]
  },
  {
   "cell_type": "markdown",
   "metadata": {},
   "source": [
    "**importacion de librerias**"
   ]
  },
  {
   "cell_type": "code",
   "execution_count": 2,
   "metadata": {},
   "outputs": [],
   "source": [
    "#permite conectar el codigo python a la base de datos de PostgreSQL\n",
    "import psycopg2"
   ]
  },
  {
   "cell_type": "markdown",
   "metadata": {},
   "source": [
    "### crear una conexion a la base de datos"
   ]
  },
  {
   "cell_type": "code",
   "execution_count": 11,
   "metadata": {},
   "outputs": [
    {
     "name": "stdout",
     "output_type": "stream",
     "text": [
      "!!!Conexion exitosa!!!\n"
     ]
    }
   ],
   "source": [
    "try:\n",
    "    conexion = psycopg2.connect(\"host=127.0.0.1 dbname=postgres user=postgres password=root\")\n",
    "except psycopg2.Error as e:\n",
    "    print(\"Error: no se puede conectar a la base de datos Postgres\")\n",
    "    print(e)\n",
    "else:\n",
    "    print(\"!!!Conexion exitosa!!!\")"
   ]
  },
  {
   "cell_type": "markdown",
   "metadata": {},
   "source": [
    "### Usar la conexcion para obtener un curso que se puede usar para ejecutar queries"
   ]
  },
  {
   "cell_type": "code",
   "execution_count": 12,
   "metadata": {},
   "outputs": [
    {
     "name": "stdout",
     "output_type": "stream",
     "text": [
      "!!!Obtencion del cursos exitosa!!!\n"
     ]
    }
   ],
   "source": [
    "try:\n",
    "    cursor = conexion.cursor()\n",
    "except psycopg2.Error as e:\n",
    "    print(\"Error: no puedes obtener un cursor a la BD\")\n",
    "    print(e)\n",
    "else:\n",
    "    print(\"!!!Obtencion del cursos exitosa!!!\")"
   ]
  },
  {
   "cell_type": "markdown",
   "metadata": {},
   "source": [
    "### Establecer commit automaticos, para que cada accion se confirme sin necesidad de llamar a conexion.commit() despues de cada comando"
   ]
  },
  {
   "cell_type": "code",
   "execution_count": 13,
   "metadata": {},
   "outputs": [],
   "source": [
    "conexion.set_session(autocommit=True)"
   ]
  },
  {
   "cell_type": "markdown",
   "metadata": {},
   "source": [
    "### creacion de una base de datos para trabajar en ella"
   ]
  },
  {
   "cell_type": "code",
   "execution_count": 14,
   "metadata": {},
   "outputs": [
    {
     "name": "stdout",
     "output_type": "stream",
     "text": [
      "Base de datos creada con exito\n"
     ]
    }
   ],
   "source": [
    "try:\n",
    "    cursor.execute(\"CREATE DATABASE myfirstdb\")\n",
    "except psycopg2.Error as e:\n",
    "    print(e)\n",
    "else:\n",
    "    print(\"Base de datos creada con exito\")"
   ]
  },
  {
   "cell_type": "markdown",
   "metadata": {},
   "source": [
    "### Se cierra la conexion a la base de datos por defecto y se reconecta a la nueva base de datos"
   ]
  },
  {
   "cell_type": "code",
   "execution_count": 19,
   "metadata": {},
   "outputs": [
    {
     "name": "stdout",
     "output_type": "stream",
     "text": [
      "!!!Conexion exitosa!!!\n",
      "!!!Obtencion del cursos exitosa!!!\n"
     ]
    }
   ],
   "source": [
    "try:\n",
    "    conexion.close()\n",
    "except psycopg2.Error as e:\n",
    "    print(\"Error: no se puede hacer una conexion a la bd Postgres\")\n",
    "    print(e)\n",
    "    \n",
    "try:\n",
    "    conexion = psycopg2.connect(\"host=127.0.0.1 dbname=myfirstdb user=postgres password=root\")\n",
    "except psycopg2.Error as e:\n",
    "    print(\"Error: no se puede conectar a la base de datos Postgres\")\n",
    "    print(e)\n",
    "else:\n",
    "    print(\"!!!Conexion exitosa!!!\")\n",
    "\n",
    "try:\n",
    "    cursor = conexion.cursor()\n",
    "except psycopg2.Error as e:\n",
    "    print(\"Error: no puedes obtener un cursor a la BD\")\n",
    "    print(e)\n",
    "else:\n",
    "    print(\"!!!Obtencion del cursos exitosa!!!\")\n",
    "    \n",
    "conexion.set_session(autocommit=True)"
   ]
  },
  {
   "cell_type": "markdown",
   "metadata": {},
   "source": [
    "### creacion de la tabla de students"
   ]
  },
  {
   "cell_type": "code",
   "execution_count": 20,
   "metadata": {},
   "outputs": [],
   "source": [
    "try:\n",
    "    cursor.execute(\"CREATE TABLE IF NOT EXISTS students (student_id int, name varchar, \\\n",
    "                    age int, gender varchar, subject varchar, marks int);\")\n",
    "except psycopg2.Error as e:\n",
    "    print(\"Error: problemas al crear la tabla\")\n",
    "    print(e)"
   ]
  },
  {
   "cell_type": "markdown",
   "metadata": {},
   "source": [
    "### inserccion de registros en la tabla students"
   ]
  },
  {
   "cell_type": "code",
   "execution_count": 22,
   "metadata": {},
   "outputs": [],
   "source": [
    "try:\n",
    "    cursor.execute(\"INSERT INTO students (student_id, name, age, gender, subject, marks) \\\n",
    "                    VALUES (%s, %s, %s, %s, %s, %s)\",\\\n",
    "                      (1, \"Sofia\", 25, \"Femenino\", \"Python\", 85))\n",
    "except psycopg2.Error as e:\n",
    "    print(\"Error: problemas al insertar registro\")\n",
    "    print(e)\n",
    "    \n",
    "try:\n",
    "    cursor.execute(\"INSERT INTO students (student_id, name, age, gender, subject, marks) \\\n",
    "                    VALUES (%s, %s, %s, %s, %s, %s)\",\\\n",
    "                      (2, \"Luis\", 22, \"Masculino\", \"Java\", 86))\n",
    "except psycopg2.Error as e:\n",
    "    print(\"Error: problemas al insertar registro\")\n",
    "    print(e)"
   ]
  },
  {
   "cell_type": "markdown",
   "metadata": {},
   "source": [
    "### validar que los datos fueron insertados en la tabla"
   ]
  },
  {
   "cell_type": "code",
   "execution_count": 23,
   "metadata": {},
   "outputs": [
    {
     "name": "stdout",
     "output_type": "stream",
     "text": [
      "(1, 'Sofia', 25, 'Femenino', 'Python', 85)\n",
      "(2, 'Luis', 22, 'Masculino', 'Java', 86)\n"
     ]
    }
   ],
   "source": [
    "try:\n",
    "    cursor.execute(\"SELECT * FROM students;\")\n",
    "except psycopg2.Error as e:\n",
    "    print(\"Error: select *\")\n",
    "    print(e)\n",
    "\n",
    "fila = cursor.fetchone()\n",
    "while fila:\n",
    "    print(fila)\n",
    "    fila = cursor.fetchone()"
   ]
  },
  {
   "cell_type": "markdown",
   "metadata": {},
   "source": [
    "### finalmente se cierra el cursor y la conexion"
   ]
  },
  {
   "cell_type": "code",
   "execution_count": 26,
   "metadata": {},
   "outputs": [],
   "source": [
    "cursor.close()\n",
    "conexion.close()"
   ]
  },
  {
   "cell_type": "code",
   "execution_count": null,
   "metadata": {},
   "outputs": [],
   "source": []
  }
 ],
 "metadata": {
  "kernelspec": {
   "display_name": "Python 3",
   "language": "python",
   "name": "python3"
  },
  "language_info": {
   "codemirror_mode": {
    "name": "ipython",
    "version": 3
   },
   "file_extension": ".py",
   "mimetype": "text/x-python",
   "name": "python",
   "nbconvert_exporter": "python",
   "pygments_lexer": "ipython3",
   "version": "3.8.5"
  }
 },
 "nbformat": 4,
 "nbformat_minor": 4
}
