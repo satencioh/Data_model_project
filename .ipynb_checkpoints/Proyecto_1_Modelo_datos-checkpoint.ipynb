{
 "cells": [
  {
   "cell_type": "markdown",
   "metadata": {},
   "source": [
    "## Proyecto No. 1"
   ]
  },
  {
   "cell_type": "markdown",
   "metadata": {},
   "source": [
    "**importacion de librerias**"
   ]
  },
  {
   "cell_type": "code",
   "execution_count": 120,
   "metadata": {},
   "outputs": [],
   "source": [
    "import psycopg2\n",
    "import pandas as pd\n",
    "import numpy as np"
   ]
  },
  {
   "cell_type": "markdown",
   "metadata": {},
   "source": [
    "**creacion de funciones utiles**"
   ]
  },
  {
   "cell_type": "code",
   "execution_count": 176,
   "metadata": {},
   "outputs": [],
   "source": [
    "def crear_bd():\n",
    "    #conexion a la bd por defecto\n",
    "    conexion = psycopg2.connect(\"host=127.0.0.1 dbname=postgres user=postgres password=root\")\n",
    "    conexion.set_session(autocommit=True)\n",
    "    cursor = conexion.cursor()\n",
    "\n",
    "    #cursor.execute(\"DROP DATABASE supermarket\")\n",
    "    #cursor.execute(\"CREATE DATABASE supermarket\")\n",
    "\n",
    "    #cerrar conexion a la bd por defecto\n",
    "    conexion.close()\n",
    "    \n",
    "    #conexion a la bd accounts\n",
    "    conexion = psycopg2.connect(\"host=127.0.0.1 dbname=supermarket user=postgres password=root\")\n",
    "    cursor = conexion.cursor()\n",
    "    \n",
    "    return cursor, conexion"
   ]
  },
  {
   "cell_type": "code",
   "execution_count": 3,
   "metadata": {},
   "outputs": [],
   "source": [
    "def borrar_tablas(cursor, conexion):\n",
    "    for query in create_table_queries:\n",
    "        cursor.execute(query)\n",
    "        conexion.commit()"
   ]
  },
  {
   "cell_type": "code",
   "execution_count": 4,
   "metadata": {},
   "outputs": [],
   "source": [
    "def crear_tablas(cursor, conexion):\n",
    "    for query in create_table_queries:\n",
    "        cursor.execute(query)\n",
    "        conexion.commit()"
   ]
  },
  {
   "cell_type": "code",
   "execution_count": 88,
   "metadata": {},
   "outputs": [],
   "source": [
    "def insertar_registros(df, query):\n",
    "    for i, row in df.iterrows():\n",
    "        #print(list(row))\n",
    "        cursor.execute(query, list(row))\n",
    "    conexion.commit()"
   ]
  },
  {
   "cell_type": "markdown",
   "metadata": {},
   "source": [
    "### Datos con los que se van a trabajar"
   ]
  },
  {
   "cell_type": "code",
   "execution_count": 66,
   "metadata": {},
   "outputs": [],
   "source": [
    "df_invoices = pd.read_csv(\"datos/invoices.csv\")"
   ]
  },
  {
   "cell_type": "code",
   "execution_count": 67,
   "metadata": {},
   "outputs": [],
   "source": [
    "df_invoices = df_invoices.drop(['Date of Meal', 'Participants'], axis=1)"
   ]
  },
  {
   "cell_type": "code",
   "execution_count": 68,
   "metadata": {},
   "outputs": [],
   "source": [
    "df_invoices.columns = df_invoices.columns.str.lower().str.replace(' ', '_')"
   ]
  },
  {
   "cell_type": "code",
   "execution_count": 70,
   "metadata": {},
   "outputs": [
    {
     "data": {
      "text/html": [
       "<div>\n",
       "<style scoped>\n",
       "    .dataframe tbody tr th:only-of-type {\n",
       "        vertical-align: middle;\n",
       "    }\n",
       "\n",
       "    .dataframe tbody tr th {\n",
       "        vertical-align: top;\n",
       "    }\n",
       "\n",
       "    .dataframe thead th {\n",
       "        text-align: right;\n",
       "    }\n",
       "</style>\n",
       "<table border=\"1\" class=\"dataframe\">\n",
       "  <thead>\n",
       "    <tr style=\"text-align: right;\">\n",
       "      <th></th>\n",
       "      <th>order_id</th>\n",
       "      <th>date</th>\n",
       "      <th>meal_id</th>\n",
       "      <th>company_id</th>\n",
       "      <th>meal_price</th>\n",
       "      <th>type_of_meal</th>\n",
       "    </tr>\n",
       "  </thead>\n",
       "  <tbody>\n",
       "    <tr>\n",
       "      <th>0</th>\n",
       "      <td>839FKFW2LLX4LMBB</td>\n",
       "      <td>27-05-2016</td>\n",
       "      <td>INBUX904GIHI8YBD</td>\n",
       "      <td>LJKS5NK6788CYMUU</td>\n",
       "      <td>469</td>\n",
       "      <td>Breakfast</td>\n",
       "    </tr>\n",
       "    <tr>\n",
       "      <th>1</th>\n",
       "      <td>97OX39BGVMHODLJM</td>\n",
       "      <td>27-09-2018</td>\n",
       "      <td>J0MMOOPP709DIDIE</td>\n",
       "      <td>LJKS5NK6788CYMUU</td>\n",
       "      <td>22</td>\n",
       "      <td>Dinner</td>\n",
       "    </tr>\n",
       "    <tr>\n",
       "      <th>2</th>\n",
       "      <td>041ORQM5OIHTIU6L</td>\n",
       "      <td>24-08-2014</td>\n",
       "      <td>E4UJLQNCI16UX5CS</td>\n",
       "      <td>LJKS5NK6788CYMUU</td>\n",
       "      <td>314</td>\n",
       "      <td>Lunch</td>\n",
       "    </tr>\n",
       "    <tr>\n",
       "      <th>3</th>\n",
       "      <td>YT796QI18WNGZ7ZJ</td>\n",
       "      <td>12-04-2014</td>\n",
       "      <td>C9SDFHF7553BE247</td>\n",
       "      <td>LJKS5NK6788CYMUU</td>\n",
       "      <td>438</td>\n",
       "      <td>Dinner</td>\n",
       "    </tr>\n",
       "    <tr>\n",
       "      <th>4</th>\n",
       "      <td>6YLROQT27B6HRF4E</td>\n",
       "      <td>28-07-2015</td>\n",
       "      <td>48EQXS6IHYNZDDZ5</td>\n",
       "      <td>LJKS5NK6788CYMUU</td>\n",
       "      <td>690</td>\n",
       "      <td>Lunch</td>\n",
       "    </tr>\n",
       "  </tbody>\n",
       "</table>\n",
       "</div>"
      ],
      "text/plain": [
       "           order_id        date           meal_id        company_id  \\\n",
       "0  839FKFW2LLX4LMBB  27-05-2016  INBUX904GIHI8YBD  LJKS5NK6788CYMUU   \n",
       "1  97OX39BGVMHODLJM  27-09-2018  J0MMOOPP709DIDIE  LJKS5NK6788CYMUU   \n",
       "2  041ORQM5OIHTIU6L  24-08-2014  E4UJLQNCI16UX5CS  LJKS5NK6788CYMUU   \n",
       "3  YT796QI18WNGZ7ZJ  12-04-2014  C9SDFHF7553BE247  LJKS5NK6788CYMUU   \n",
       "4  6YLROQT27B6HRF4E  28-07-2015  48EQXS6IHYNZDDZ5  LJKS5NK6788CYMUU   \n",
       "\n",
       "   meal_price type_of_meal  \n",
       "0         469    Breakfast  \n",
       "1          22       Dinner  \n",
       "2         314        Lunch  \n",
       "3         438       Dinner  \n",
       "4         690        Lunch  "
      ]
     },
     "execution_count": 70,
     "metadata": {},
     "output_type": "execute_result"
    }
   ],
   "source": [
    "df_invoices.head()"
   ]
  },
  {
   "cell_type": "code",
   "execution_count": 69,
   "metadata": {},
   "outputs": [
    {
     "name": "stdout",
     "output_type": "stream",
     "text": [
      "<class 'pandas.core.frame.DataFrame'>\n",
      "RangeIndex: 50017 entries, 0 to 50016\n",
      "Data columns (total 6 columns):\n",
      " #   Column        Non-Null Count  Dtype \n",
      "---  ------        --------------  ----- \n",
      " 0   order_id      50017 non-null  object\n",
      " 1   date          50017 non-null  object\n",
      " 2   meal_id       50017 non-null  object\n",
      " 3   company_id    50017 non-null  object\n",
      " 4   meal_price    50017 non-null  int64 \n",
      " 5   type_of_meal  50017 non-null  object\n",
      "dtypes: int64(1), object(5)\n",
      "memory usage: 2.3+ MB\n"
     ]
    }
   ],
   "source": [
    "df_invoices.info()"
   ]
  },
  {
   "cell_type": "code",
   "execution_count": 57,
   "metadata": {},
   "outputs": [],
   "source": [
    "df_order_leads = pd.read_csv(\"datos/OrderLeads.csv\")"
   ]
  },
  {
   "cell_type": "code",
   "execution_count": 58,
   "metadata": {},
   "outputs": [],
   "source": [
    "df_order_leads.columns = df_order_leads.columns.str.lower().str.replace(' ', '_')"
   ]
  },
  {
   "cell_type": "code",
   "execution_count": 59,
   "metadata": {},
   "outputs": [
    {
     "data": {
      "text/html": [
       "<div>\n",
       "<style scoped>\n",
       "    .dataframe tbody tr th:only-of-type {\n",
       "        vertical-align: middle;\n",
       "    }\n",
       "\n",
       "    .dataframe tbody tr th {\n",
       "        vertical-align: top;\n",
       "    }\n",
       "\n",
       "    .dataframe thead th {\n",
       "        text-align: right;\n",
       "    }\n",
       "</style>\n",
       "<table border=\"1\" class=\"dataframe\">\n",
       "  <thead>\n",
       "    <tr style=\"text-align: right;\">\n",
       "      <th></th>\n",
       "      <th>order_id</th>\n",
       "      <th>company_id</th>\n",
       "      <th>company_name</th>\n",
       "      <th>date</th>\n",
       "      <th>order_value</th>\n",
       "      <th>converted</th>\n",
       "    </tr>\n",
       "  </thead>\n",
       "  <tbody>\n",
       "    <tr>\n",
       "      <th>0</th>\n",
       "      <td>80EYLOKP9E762WKG</td>\n",
       "      <td>LJKS5NK6788CYMUU</td>\n",
       "      <td>Chimera-Chasing Casbah</td>\n",
       "      <td>18-02-2017</td>\n",
       "      <td>4875</td>\n",
       "      <td>1</td>\n",
       "    </tr>\n",
       "    <tr>\n",
       "      <th>1</th>\n",
       "      <td>TLEXR1HZWTUTBHPB</td>\n",
       "      <td>LJKS5NK6788CYMUU</td>\n",
       "      <td>Chimera-Chasing Casbah</td>\n",
       "      <td>30-07-2015</td>\n",
       "      <td>8425</td>\n",
       "      <td>0</td>\n",
       "    </tr>\n",
       "    <tr>\n",
       "      <th>2</th>\n",
       "      <td>839FKFW2LLX4LMBB</td>\n",
       "      <td>LJKS5NK6788CYMUU</td>\n",
       "      <td>Chimera-Chasing Casbah</td>\n",
       "      <td>27-05-2016</td>\n",
       "      <td>4837</td>\n",
       "      <td>0</td>\n",
       "    </tr>\n",
       "    <tr>\n",
       "      <th>3</th>\n",
       "      <td>97OX39BGVMHODLJM</td>\n",
       "      <td>LJKS5NK6788CYMUU</td>\n",
       "      <td>Chimera-Chasing Casbah</td>\n",
       "      <td>27-09-2018</td>\n",
       "      <td>343</td>\n",
       "      <td>0</td>\n",
       "    </tr>\n",
       "    <tr>\n",
       "      <th>4</th>\n",
       "      <td>5T4LGH4XGBWOD49Z</td>\n",
       "      <td>LJKS5NK6788CYMUU</td>\n",
       "      <td>Chimera-Chasing Casbah</td>\n",
       "      <td>14-01-2016</td>\n",
       "      <td>983</td>\n",
       "      <td>0</td>\n",
       "    </tr>\n",
       "  </tbody>\n",
       "</table>\n",
       "</div>"
      ],
      "text/plain": [
       "           order_id        company_id            company_name        date  \\\n",
       "0  80EYLOKP9E762WKG  LJKS5NK6788CYMUU  Chimera-Chasing Casbah  18-02-2017   \n",
       "1  TLEXR1HZWTUTBHPB  LJKS5NK6788CYMUU  Chimera-Chasing Casbah  30-07-2015   \n",
       "2  839FKFW2LLX4LMBB  LJKS5NK6788CYMUU  Chimera-Chasing Casbah  27-05-2016   \n",
       "3  97OX39BGVMHODLJM  LJKS5NK6788CYMUU  Chimera-Chasing Casbah  27-09-2018   \n",
       "4  5T4LGH4XGBWOD49Z  LJKS5NK6788CYMUU  Chimera-Chasing Casbah  14-01-2016   \n",
       "\n",
       "   order_value  converted  \n",
       "0         4875          1  \n",
       "1         8425          0  \n",
       "2         4837          0  \n",
       "3          343          0  \n",
       "4          983          0  "
      ]
     },
     "execution_count": 59,
     "metadata": {},
     "output_type": "execute_result"
    }
   ],
   "source": [
    "df_order_leads.head()"
   ]
  },
  {
   "cell_type": "code",
   "execution_count": 60,
   "metadata": {},
   "outputs": [
    {
     "name": "stdout",
     "output_type": "stream",
     "text": [
      "<class 'pandas.core.frame.DataFrame'>\n",
      "RangeIndex: 100000 entries, 0 to 99999\n",
      "Data columns (total 6 columns):\n",
      " #   Column        Non-Null Count   Dtype \n",
      "---  ------        --------------   ----- \n",
      " 0   order_id      100000 non-null  object\n",
      " 1   company_id    100000 non-null  object\n",
      " 2   company_name  100000 non-null  object\n",
      " 3   date          100000 non-null  object\n",
      " 4   order_value   100000 non-null  int64 \n",
      " 5   converted     100000 non-null  int64 \n",
      "dtypes: int64(2), object(4)\n",
      "memory usage: 4.6+ MB\n"
     ]
    }
   ],
   "source": [
    "df_order_leads.info()"
   ]
  },
  {
   "cell_type": "code",
   "execution_count": 159,
   "metadata": {},
   "outputs": [],
   "source": [
    "df_sales_team = pd.read_csv(\"datos/SalesTeam.csv\")"
   ]
  },
  {
   "cell_type": "code",
   "execution_count": 160,
   "metadata": {},
   "outputs": [],
   "source": [
    "df_sales_team.columns = df_sales_team.columns.str.lower().str.replace(' ', '_')"
   ]
  },
  {
   "cell_type": "code",
   "execution_count": 161,
   "metadata": {},
   "outputs": [],
   "source": [
    "df_sales_team = df_sales_team.drop('unnamed:_0', axis=1)"
   ]
  },
  {
   "cell_type": "code",
   "execution_count": 162,
   "metadata": {},
   "outputs": [],
   "source": [
    "df_sales_team = df_sales_team[['sales_team_id','sales_rep_id','company_id','company_name']]"
   ]
  },
  {
   "cell_type": "code",
   "execution_count": 179,
   "metadata": {},
   "outputs": [
    {
     "data": {
      "text/html": [
       "<div>\n",
       "<style scoped>\n",
       "    .dataframe tbody tr th:only-of-type {\n",
       "        vertical-align: middle;\n",
       "    }\n",
       "\n",
       "    .dataframe tbody tr th {\n",
       "        vertical-align: top;\n",
       "    }\n",
       "\n",
       "    .dataframe thead th {\n",
       "        text-align: right;\n",
       "    }\n",
       "</style>\n",
       "<table border=\"1\" class=\"dataframe\">\n",
       "  <thead>\n",
       "    <tr style=\"text-align: right;\">\n",
       "      <th></th>\n",
       "      <th>sales_team_id</th>\n",
       "      <th>sales_rep_id</th>\n",
       "      <th>company_id</th>\n",
       "      <th>company_name</th>\n",
       "    </tr>\n",
       "  </thead>\n",
       "  <tbody>\n",
       "    <tr>\n",
       "      <th>0</th>\n",
       "      <td>1001</td>\n",
       "      <td>97UNNAT790E0WM4N</td>\n",
       "      <td>LJKS5NK6788CYMUU</td>\n",
       "      <td>Chimera-Chasing Casbah</td>\n",
       "    </tr>\n",
       "    <tr>\n",
       "      <th>1</th>\n",
       "      <td>1002</td>\n",
       "      <td>97UNNAT790E0WM4N</td>\n",
       "      <td>36MFTZOYMTAJP1RK</td>\n",
       "      <td>Tangential Sheds</td>\n",
       "    </tr>\n",
       "    <tr>\n",
       "      <th>2</th>\n",
       "      <td>1003</td>\n",
       "      <td>97UNNAT790E0WM4N</td>\n",
       "      <td>H3JRC7XX7WJAD4ZO</td>\n",
       "      <td>Two-Mile Grab</td>\n",
       "    </tr>\n",
       "    <tr>\n",
       "      <th>3</th>\n",
       "      <td>1004</td>\n",
       "      <td>97UNNAT790E0WM4N</td>\n",
       "      <td>HB25MDZR0MGCQUGX</td>\n",
       "      <td>Three-Men-And-A-Helper Congo'S</td>\n",
       "    </tr>\n",
       "    <tr>\n",
       "      <th>4</th>\n",
       "      <td>1005</td>\n",
       "      <td>97UNNAT790E0WM4N</td>\n",
       "      <td>7RVA8TIVBLBXMNO4</td>\n",
       "      <td>Biophysical Battleground</td>\n",
       "    </tr>\n",
       "  </tbody>\n",
       "</table>\n",
       "</div>"
      ],
      "text/plain": [
       "   sales_team_id      sales_rep_id        company_id  \\\n",
       "0           1001  97UNNAT790E0WM4N  LJKS5NK6788CYMUU   \n",
       "1           1002  97UNNAT790E0WM4N  36MFTZOYMTAJP1RK   \n",
       "2           1003  97UNNAT790E0WM4N  H3JRC7XX7WJAD4ZO   \n",
       "3           1004  97UNNAT790E0WM4N  HB25MDZR0MGCQUGX   \n",
       "4           1005  97UNNAT790E0WM4N  7RVA8TIVBLBXMNO4   \n",
       "\n",
       "                     company_name  \n",
       "0          Chimera-Chasing Casbah  \n",
       "1                Tangential Sheds  \n",
       "2                   Two-Mile Grab  \n",
       "3  Three-Men-And-A-Helper Congo'S  \n",
       "4        Biophysical Battleground  "
      ]
     },
     "execution_count": 179,
     "metadata": {},
     "output_type": "execute_result"
    }
   ],
   "source": [
    "df_sales_team.head()"
   ]
  },
  {
   "cell_type": "code",
   "execution_count": 164,
   "metadata": {},
   "outputs": [
    {
     "name": "stdout",
     "output_type": "stream",
     "text": [
      "<class 'pandas.core.frame.DataFrame'>\n",
      "RangeIndex: 4725 entries, 0 to 4724\n",
      "Data columns (total 4 columns):\n",
      " #   Column         Non-Null Count  Dtype \n",
      "---  ------         --------------  ----- \n",
      " 0   sales_team_id  4725 non-null   int64 \n",
      " 1   sales_rep_id   4725 non-null   object\n",
      " 2   company_id     4725 non-null   object\n",
      " 3   company_name   4725 non-null   object\n",
      "dtypes: int64(1), object(3)\n",
      "memory usage: 147.8+ KB\n"
     ]
    }
   ],
   "source": [
    "df_sales_team.info()"
   ]
  },
  {
   "cell_type": "code",
   "execution_count": 180,
   "metadata": {},
   "outputs": [],
   "source": [
    "df_sales_repre = pd.read_csv(\"datos/sales_representative.csv\")"
   ]
  },
  {
   "cell_type": "code",
   "execution_count": 181,
   "metadata": {},
   "outputs": [],
   "source": [
    "df_sales_repre = df_sales_repre[['sales_rep_id','sales_rep']]"
   ]
  },
  {
   "cell_type": "code",
   "execution_count": 182,
   "metadata": {},
   "outputs": [
    {
     "data": {
      "text/html": [
       "<div>\n",
       "<style scoped>\n",
       "    .dataframe tbody tr th:only-of-type {\n",
       "        vertical-align: middle;\n",
       "    }\n",
       "\n",
       "    .dataframe tbody tr th {\n",
       "        vertical-align: top;\n",
       "    }\n",
       "\n",
       "    .dataframe thead th {\n",
       "        text-align: right;\n",
       "    }\n",
       "</style>\n",
       "<table border=\"1\" class=\"dataframe\">\n",
       "  <thead>\n",
       "    <tr style=\"text-align: right;\">\n",
       "      <th></th>\n",
       "      <th>sales_rep_id</th>\n",
       "      <th>sales_rep</th>\n",
       "    </tr>\n",
       "  </thead>\n",
       "  <tbody>\n",
       "    <tr>\n",
       "      <th>0</th>\n",
       "      <td>97UNNAT790E0WM4N</td>\n",
       "      <td>Jessie Mcallister</td>\n",
       "    </tr>\n",
       "    <tr>\n",
       "      <th>1</th>\n",
       "      <td>RRD2R9XMAJDP7TUY</td>\n",
       "      <td>Lois Bowers</td>\n",
       "    </tr>\n",
       "    <tr>\n",
       "      <th>2</th>\n",
       "      <td>G9T8KNQF8XD2XHTS</td>\n",
       "      <td>Melvin Dupree</td>\n",
       "    </tr>\n",
       "    <tr>\n",
       "      <th>3</th>\n",
       "      <td>VZV7I6YA8IAX510X</td>\n",
       "      <td>Betty Factor</td>\n",
       "    </tr>\n",
       "    <tr>\n",
       "      <th>4</th>\n",
       "      <td>HQRE2LG21W2OHCY5</td>\n",
       "      <td>John Rodriguez</td>\n",
       "    </tr>\n",
       "  </tbody>\n",
       "</table>\n",
       "</div>"
      ],
      "text/plain": [
       "       sales_rep_id          sales_rep\n",
       "0  97UNNAT790E0WM4N  Jessie Mcallister\n",
       "1  RRD2R9XMAJDP7TUY        Lois Bowers\n",
       "2  G9T8KNQF8XD2XHTS      Melvin Dupree\n",
       "3  VZV7I6YA8IAX510X       Betty Factor\n",
       "4  HQRE2LG21W2OHCY5     John Rodriguez"
      ]
     },
     "execution_count": 182,
     "metadata": {},
     "output_type": "execute_result"
    }
   ],
   "source": [
    "df_sales_repre.head()"
   ]
  },
  {
   "cell_type": "code",
   "execution_count": 183,
   "metadata": {},
   "outputs": [
    {
     "name": "stdout",
     "output_type": "stream",
     "text": [
      "<class 'pandas.core.frame.DataFrame'>\n",
      "RangeIndex: 500 entries, 0 to 499\n",
      "Data columns (total 2 columns):\n",
      " #   Column        Non-Null Count  Dtype \n",
      "---  ------        --------------  ----- \n",
      " 0   sales_rep_id  500 non-null    object\n",
      " 1   sales_rep     500 non-null    object\n",
      "dtypes: object(2)\n",
      "memory usage: 7.9+ KB\n"
     ]
    }
   ],
   "source": [
    "df_sales_repre.info()"
   ]
  },
  {
   "cell_type": "markdown",
   "metadata": {},
   "source": [
    "### conectarse a la bd y crear tablas"
   ]
  },
  {
   "cell_type": "code",
   "execution_count": 177,
   "metadata": {},
   "outputs": [],
   "source": [
    "cursor, conexion = crear_bd()"
   ]
  },
  {
   "cell_type": "code",
   "execution_count": 71,
   "metadata": {},
   "outputs": [],
   "source": [
    "tabla_invoices = (\"\"\"CREATE TABLE IF NOT EXISTS invoices (\n",
    "order_id VARCHAR PRIMARY KEY, \n",
    "date date, \n",
    "meal_id VARCHAR, \n",
    "company_id VARCHAR,\n",
    "meal_price int,\n",
    "type_of_meal VARCHAR\n",
    ")\"\"\")"
   ]
  },
  {
   "cell_type": "code",
   "execution_count": 72,
   "metadata": {},
   "outputs": [],
   "source": [
    "cursor.execute(tabla_invoices)\n",
    "conexion.commit()"
   ]
  },
  {
   "cell_type": "code",
   "execution_count": 80,
   "metadata": {},
   "outputs": [],
   "source": [
    "tabla_order_leads = (\"\"\"CREATE TABLE IF NOT EXISTS order_leads (\n",
    "order_id VARCHAR PRIMARY KEY, \n",
    "company_id VARCHAR, \n",
    "company_name VARCHAR, \n",
    "date date,\n",
    "order_value int,\n",
    "converted int)\"\"\")\n",
    "cursor.execute(tabla_order_leads)\n",
    "conexion.commit()"
   ]
  },
  {
   "cell_type": "code",
   "execution_count": 178,
   "metadata": {},
   "outputs": [],
   "source": [
    "tabla_sales_team = (\"\"\"CREATE TABLE IF NOT EXISTS sales_team (\n",
    "sales_team_id int PRIMARY KEY,\n",
    "sales_rep_id VARCHAR,\n",
    "company_id VARCHAR,\n",
    "company_name VARCHAR)\n",
    "\"\"\")\n",
    "cursor.execute(tabla_sales_team)\n",
    "conexion.commit()"
   ]
  },
  {
   "cell_type": "code",
   "execution_count": 184,
   "metadata": {},
   "outputs": [],
   "source": [
    "tabla_sales_repre = (\"\"\"CREATE TABLE IF NOT EXISTS sales_repres (\n",
    "sales_rep_id VARCHAR PRIMARY KEY,\n",
    "sales_rep VARCHAR)\n",
    "\"\"\")\n",
    "cursor.execute(tabla_sales_repre)\n",
    "conexion.commit()"
   ]
  },
  {
   "cell_type": "markdown",
   "metadata": {},
   "source": [
    "### Insertar registros en tablas"
   ]
  },
  {
   "cell_type": "code",
   "execution_count": 73,
   "metadata": {},
   "outputs": [],
   "source": [
    "insert_tabla_invoices = (\"\"\"INSERT INTO invoices (\n",
    "order_id, \n",
    "date, \n",
    "meal_id, \n",
    "company_id,\n",
    "meal_price,\n",
    "type_of_meal\n",
    ")\n",
    "VALUES (%s, %s, %s, %s, %s, %s\n",
    ")\"\"\")"
   ]
  },
  {
   "cell_type": "code",
   "execution_count": 75,
   "metadata": {},
   "outputs": [],
   "source": [
    "insertar_registros(df_invoices, insert_tabla_invoices)"
   ]
  },
  {
   "cell_type": "code",
   "execution_count": 82,
   "metadata": {},
   "outputs": [],
   "source": [
    "insert_order_leads = (\"\"\"INSERT INTO order_leads (\n",
    "order_id, \n",
    "company_id, \n",
    "company_name, \n",
    "date,\n",
    "order_value,\n",
    "converted\n",
    ")\n",
    "VALUES (%s, %s, %s, %s, %s, %s\n",
    ")\"\"\")"
   ]
  },
  {
   "cell_type": "code",
   "execution_count": 85,
   "metadata": {},
   "outputs": [],
   "source": [
    "insertar_registros(df_order_leads, insert_order_leads)"
   ]
  },
  {
   "cell_type": "code",
   "execution_count": 185,
   "metadata": {},
   "outputs": [],
   "source": [
    "insert_tabla_sales_team = (\"\"\"INSERT INTO sales_team (\n",
    "sales_team_id,\n",
    "sales_rep_id,\n",
    "company_id,\n",
    "company_name\n",
    ")\n",
    "VALUES (%s, %s, %s, %s)\n",
    "\"\"\")"
   ]
  },
  {
   "cell_type": "code",
   "execution_count": 186,
   "metadata": {},
   "outputs": [],
   "source": [
    "insertar_registros(df_sales_team, insert_tabla_sales_team)"
   ]
  },
  {
   "cell_type": "code",
   "execution_count": 187,
   "metadata": {},
   "outputs": [],
   "source": [
    "insert_tabla_sales_repres = (\"\"\"INSERT INTO sales_repres (\n",
    "sales_rep_id , \n",
    "sales_rep)\n",
    "VALUES (%s, %s)\n",
    "\"\"\")"
   ]
  },
  {
   "cell_type": "code",
   "execution_count": 188,
   "metadata": {},
   "outputs": [],
   "source": [
    "insertar_registros(df_sales_repre, insert_tabla_sales_repres)"
   ]
  }
 ],
 "metadata": {
  "kernelspec": {
   "display_name": "Python 3",
   "language": "python",
   "name": "python3"
  },
  "language_info": {
   "codemirror_mode": {
    "name": "ipython",
    "version": 3
   },
   "file_extension": ".py",
   "mimetype": "text/x-python",
   "name": "python",
   "nbconvert_exporter": "python",
   "pygments_lexer": "ipython3",
   "version": "3.8.5"
  }
 },
 "nbformat": 4,
 "nbformat_minor": 4
}
